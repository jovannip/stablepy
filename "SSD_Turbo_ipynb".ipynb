{
  "nbformat": 4,
  "nbformat_minor": 0,
  "metadata": {
    "colab": {
      "provenance": [],
      "gpuType": "T4",
      "include_colab_link": true
    },
    "kernelspec": {
      "name": "python3",
      "display_name": "Python 3"
    },
    "language_info": {
      "name": "python"
    },
    "accelerator": "GPU",
    "widgets": {
      "application/vnd.jupyter.widget-state+json": {
        "80d2d18898704337b1c7a46767cf41df": {
          "model_module": "@jupyter-widgets/controls",
          "model_name": "HBoxModel",
          "model_module_version": "1.5.0",
          "state": {
            "_dom_classes": [],
            "_model_module": "@jupyter-widgets/controls",
            "_model_module_version": "1.5.0",
            "_model_name": "HBoxModel",
            "_view_count": null,
            "_view_module": "@jupyter-widgets/controls",
            "_view_module_version": "1.5.0",
            "_view_name": "HBoxView",
            "box_style": "",
            "children": [
              "IPY_MODEL_5a7f571880b244b8a05cd7d5d9b1686d",
              "IPY_MODEL_02a4c5c2d50b4782b1d144ee27ed93e4",
              "IPY_MODEL_2446b118d61d44cbb049f0b87d359025"
            ],
            "layout": "IPY_MODEL_da19276f675b42348e71823f8cbf5c6d"
          }
        },
        "5a7f571880b244b8a05cd7d5d9b1686d": {
          "model_module": "@jupyter-widgets/controls",
          "model_name": "HTMLModel",
          "model_module_version": "1.5.0",
          "state": {
            "_dom_classes": [],
            "_model_module": "@jupyter-widgets/controls",
            "_model_module_version": "1.5.0",
            "_model_name": "HTMLModel",
            "_view_count": null,
            "_view_module": "@jupyter-widgets/controls",
            "_view_module_version": "1.5.0",
            "_view_name": "HTMLView",
            "description": "",
            "description_tooltip": null,
            "layout": "IPY_MODEL_4fa8097b82f44eea87eff2b11d859c5f",
            "placeholder": "​",
            "style": "IPY_MODEL_d8ff9ae0240e46658946ee22decb7a75",
            "value": "100%"
          }
        },
        "02a4c5c2d50b4782b1d144ee27ed93e4": {
          "model_module": "@jupyter-widgets/controls",
          "model_name": "FloatProgressModel",
          "model_module_version": "1.5.0",
          "state": {
            "_dom_classes": [],
            "_model_module": "@jupyter-widgets/controls",
            "_model_module_version": "1.5.0",
            "_model_name": "FloatProgressModel",
            "_view_count": null,
            "_view_module": "@jupyter-widgets/controls",
            "_view_module_version": "1.5.0",
            "_view_name": "ProgressView",
            "bar_style": "success",
            "description": "",
            "description_tooltip": null,
            "layout": "IPY_MODEL_98884ca510824d88b577aab042933b3e",
            "max": 30,
            "min": 0,
            "orientation": "horizontal",
            "style": "IPY_MODEL_fe28421e5af944bbb5373b08985809b4",
            "value": 30
          }
        },
        "2446b118d61d44cbb049f0b87d359025": {
          "model_module": "@jupyter-widgets/controls",
          "model_name": "HTMLModel",
          "model_module_version": "1.5.0",
          "state": {
            "_dom_classes": [],
            "_model_module": "@jupyter-widgets/controls",
            "_model_module_version": "1.5.0",
            "_model_name": "HTMLModel",
            "_view_count": null,
            "_view_module": "@jupyter-widgets/controls",
            "_view_module_version": "1.5.0",
            "_view_name": "HTMLView",
            "description": "",
            "description_tooltip": null,
            "layout": "IPY_MODEL_ba404ae2f5f342f38700764fefc2f2f7",
            "placeholder": "​",
            "style": "IPY_MODEL_5309616ae0b640caab2eb183c0376521",
            "value": " 30/30 [00:29&lt;00:00,  1.01s/it]"
          }
        },
        "da19276f675b42348e71823f8cbf5c6d": {
          "model_module": "@jupyter-widgets/base",
          "model_name": "LayoutModel",
          "model_module_version": "1.2.0",
          "state": {
            "_model_module": "@jupyter-widgets/base",
            "_model_module_version": "1.2.0",
            "_model_name": "LayoutModel",
            "_view_count": null,
            "_view_module": "@jupyter-widgets/base",
            "_view_module_version": "1.2.0",
            "_view_name": "LayoutView",
            "align_content": null,
            "align_items": null,
            "align_self": null,
            "border": null,
            "bottom": null,
            "display": null,
            "flex": null,
            "flex_flow": null,
            "grid_area": null,
            "grid_auto_columns": null,
            "grid_auto_flow": null,
            "grid_auto_rows": null,
            "grid_column": null,
            "grid_gap": null,
            "grid_row": null,
            "grid_template_areas": null,
            "grid_template_columns": null,
            "grid_template_rows": null,
            "height": null,
            "justify_content": null,
            "justify_items": null,
            "left": null,
            "margin": null,
            "max_height": null,
            "max_width": null,
            "min_height": null,
            "min_width": null,
            "object_fit": null,
            "object_position": null,
            "order": null,
            "overflow": null,
            "overflow_x": null,
            "overflow_y": null,
            "padding": null,
            "right": null,
            "top": null,
            "visibility": null,
            "width": null
          }
        },
        "4fa8097b82f44eea87eff2b11d859c5f": {
          "model_module": "@jupyter-widgets/base",
          "model_name": "LayoutModel",
          "model_module_version": "1.2.0",
          "state": {
            "_model_module": "@jupyter-widgets/base",
            "_model_module_version": "1.2.0",
            "_model_name": "LayoutModel",
            "_view_count": null,
            "_view_module": "@jupyter-widgets/base",
            "_view_module_version": "1.2.0",
            "_view_name": "LayoutView",
            "align_content": null,
            "align_items": null,
            "align_self": null,
            "border": null,
            "bottom": null,
            "display": null,
            "flex": null,
            "flex_flow": null,
            "grid_area": null,
            "grid_auto_columns": null,
            "grid_auto_flow": null,
            "grid_auto_rows": null,
            "grid_column": null,
            "grid_gap": null,
            "grid_row": null,
            "grid_template_areas": null,
            "grid_template_columns": null,
            "grid_template_rows": null,
            "height": null,
            "justify_content": null,
            "justify_items": null,
            "left": null,
            "margin": null,
            "max_height": null,
            "max_width": null,
            "min_height": null,
            "min_width": null,
            "object_fit": null,
            "object_position": null,
            "order": null,
            "overflow": null,
            "overflow_x": null,
            "overflow_y": null,
            "padding": null,
            "right": null,
            "top": null,
            "visibility": null,
            "width": null
          }
        },
        "d8ff9ae0240e46658946ee22decb7a75": {
          "model_module": "@jupyter-widgets/controls",
          "model_name": "DescriptionStyleModel",
          "model_module_version": "1.5.0",
          "state": {
            "_model_module": "@jupyter-widgets/controls",
            "_model_module_version": "1.5.0",
            "_model_name": "DescriptionStyleModel",
            "_view_count": null,
            "_view_module": "@jupyter-widgets/base",
            "_view_module_version": "1.2.0",
            "_view_name": "StyleView",
            "description_width": ""
          }
        },
        "98884ca510824d88b577aab042933b3e": {
          "model_module": "@jupyter-widgets/base",
          "model_name": "LayoutModel",
          "model_module_version": "1.2.0",
          "state": {
            "_model_module": "@jupyter-widgets/base",
            "_model_module_version": "1.2.0",
            "_model_name": "LayoutModel",
            "_view_count": null,
            "_view_module": "@jupyter-widgets/base",
            "_view_module_version": "1.2.0",
            "_view_name": "LayoutView",
            "align_content": null,
            "align_items": null,
            "align_self": null,
            "border": null,
            "bottom": null,
            "display": null,
            "flex": null,
            "flex_flow": null,
            "grid_area": null,
            "grid_auto_columns": null,
            "grid_auto_flow": null,
            "grid_auto_rows": null,
            "grid_column": null,
            "grid_gap": null,
            "grid_row": null,
            "grid_template_areas": null,
            "grid_template_columns": null,
            "grid_template_rows": null,
            "height": null,
            "justify_content": null,
            "justify_items": null,
            "left": null,
            "margin": null,
            "max_height": null,
            "max_width": null,
            "min_height": null,
            "min_width": null,
            "object_fit": null,
            "object_position": null,
            "order": null,
            "overflow": null,
            "overflow_x": null,
            "overflow_y": null,
            "padding": null,
            "right": null,
            "top": null,
            "visibility": null,
            "width": null
          }
        },
        "fe28421e5af944bbb5373b08985809b4": {
          "model_module": "@jupyter-widgets/controls",
          "model_name": "ProgressStyleModel",
          "model_module_version": "1.5.0",
          "state": {
            "_model_module": "@jupyter-widgets/controls",
            "_model_module_version": "1.5.0",
            "_model_name": "ProgressStyleModel",
            "_view_count": null,
            "_view_module": "@jupyter-widgets/base",
            "_view_module_version": "1.2.0",
            "_view_name": "StyleView",
            "bar_color": null,
            "description_width": ""
          }
        },
        "ba404ae2f5f342f38700764fefc2f2f7": {
          "model_module": "@jupyter-widgets/base",
          "model_name": "LayoutModel",
          "model_module_version": "1.2.0",
          "state": {
            "_model_module": "@jupyter-widgets/base",
            "_model_module_version": "1.2.0",
            "_model_name": "LayoutModel",
            "_view_count": null,
            "_view_module": "@jupyter-widgets/base",
            "_view_module_version": "1.2.0",
            "_view_name": "LayoutView",
            "align_content": null,
            "align_items": null,
            "align_self": null,
            "border": null,
            "bottom": null,
            "display": null,
            "flex": null,
            "flex_flow": null,
            "grid_area": null,
            "grid_auto_columns": null,
            "grid_auto_flow": null,
            "grid_auto_rows": null,
            "grid_column": null,
            "grid_gap": null,
            "grid_row": null,
            "grid_template_areas": null,
            "grid_template_columns": null,
            "grid_template_rows": null,
            "height": null,
            "justify_content": null,
            "justify_items": null,
            "left": null,
            "margin": null,
            "max_height": null,
            "max_width": null,
            "min_height": null,
            "min_width": null,
            "object_fit": null,
            "object_position": null,
            "order": null,
            "overflow": null,
            "overflow_x": null,
            "overflow_y": null,
            "padding": null,
            "right": null,
            "top": null,
            "visibility": null,
            "width": null
          }
        },
        "5309616ae0b640caab2eb183c0376521": {
          "model_module": "@jupyter-widgets/controls",
          "model_name": "DescriptionStyleModel",
          "model_module_version": "1.5.0",
          "state": {
            "_model_module": "@jupyter-widgets/controls",
            "_model_module_version": "1.5.0",
            "_model_name": "DescriptionStyleModel",
            "_view_count": null,
            "_view_module": "@jupyter-widgets/base",
            "_view_module_version": "1.2.0",
            "_view_name": "StyleView",
            "description_width": ""
          }
        }
      }
    }
  },
  "cells": [
    {
      "cell_type": "markdown",
      "metadata": {
        "id": "view-in-github",
        "colab_type": "text"
      },
      "source": [
        "<a href=\"https://colab.research.google.com/github/jovannip/stablepy/blob/main/%22SSD_Turbo_ipynb%22.ipynb\" target=\"_parent\"><img src=\"https://colab.research.google.com/assets/colab-badge.svg\" alt=\"Open In Colab\"/></a>"
      ]
    },
    {
      "cell_type": "code",
      "execution_count": null,
      "metadata": {
        "id": "qtuno0Kbk7Bl",
        "cellView": "form"
      },
      "outputs": [],
      "source": [
        "# @title Installing\n",
        "import torch\n",
        "gpu = torch.cuda.is_available()\n",
        "!pip install diffusers transformers accelerate googletrans==3.1.0a0 numba xformers==0.0.22.post7 --upgrade\n",
        "from IPython.display import clear_output\n",
        "from diffusers import AutoPipelineForText2Image,AutoencoderKL\n",
        "import torch\n",
        "\n",
        "clear_output()\n",
        "\n",
        "if gpu==True:\n",
        "  pipe = AutoPipelineForText2Image.from_pretrained(\"kitty7779/ponyDiffusionV6XL\", custom_pipeline=\"lpw_stable_diffusion_xl\", torch_dtype=torch.float16, use_safetensors=True, add_watermarker=False)\n",
        "  cust_vae = AutoencoderKL.from_pretrained(\"madebyollin/sdxl-vae-fp16-fix\", torch_dtype=torch.float16)\n",
        "  pipe.vae = cust_vae\n",
        "  pipe.to(\"cuda\")\n",
        "  pipe.enable_xformers_memory_efficient_attention()\n",
        "  clear_output()\n",
        "  # variant A\n",
        "  !wget https://huggingface.co/jiovannip/s17x1_/resolve/main/Concept%20Art%20Style%20SDXL_LoRA_Pony%20Diffusion%20V6%20XL.safetensors -P /content/lora\n",
        "  !wget https://huggingface.co/jiovannip/s17x1_/resolve/main/Smooth%20Anime%202%20Style%20SDXL_LoRA_Pony%20Diffusion%20V6%20XL.safetensors -P /content/lora\n",
        "  print(\"GPU usage\")\n",
        "  print(\"OK!\")\n",
        "else:\n",
        "  print(\"GPU was not find. Switching to CPU usage. The number of steps is automatically set to 1 for higher perfomance\")\n",
        "  pipe = AutoPipelineForText2Image.from_pretrained(\"AstraliteHeart/pony-diffusion-v6\",weight_name=\"v6.safetensors\")\n",
        "  clear_output()\n",
        "  print(\"CPU usage\")\n",
        "  print(\"OK!\")"
      ]
    },
    {
      "cell_type": "code",
      "source": [
        "# @title Download LORA\n",
        "\n",
        "!wget https://huggingface.co/jiovannip/s17x1_/resolve/main/Concept%20Art%20Style%20SDXL_LoRA_Pony%20Diffusion%20V6%20XL.safetensors -P /content/lora\n",
        "!wget https://huggingface.co/jiovannip/s17x1_/resolve/main/Smooth%20Anime%202%20Style%20SDXL_LoRA_Pony%20Diffusion%20V6%20XL.safetensors -P /content/lora\n",
        "!wget https://huggingface.co/jiovannip/s17x1_/resolve/main/Anime%20Summer%20Days%202%20Style%20SDXL_LoRA_Pony%20Diffusion%20V6%20XL.safetensors -P /content/lora\n",
        "!wget https://huggingface.co/jiovannip/s17x1_/resolve/main/Anime%20Summer%20Night%20Style%20SDXL_LoRA_Pony%20Diffusion%20V6%20XL.safetensors -P /content/lora\n",
        "!wget https://huggingface.co/jiovannip/s17x1_/resolve/main/Line%20Art%20Style%20LoRA%20XL.safetensors -P /content/lora"
      ],
      "metadata": {
        "id": "T3nM4YfQLssZ"
      },
      "execution_count": null,
      "outputs": []
    },
    {
      "cell_type": "code",
      "source": [
        "\n",
        "#@title Set DPM++ 2M SDE Karras Scheduler\n",
        "\n",
        "from diffusers import DPMSolverMultistepScheduler\n",
        "pipe.scheduler = DPMSolverMultistepScheduler.from_config(pipe.scheduler.config,use_karras_sigmas=True, algorithm_type=\"sde-dpmsolver++\")"
      ],
      "metadata": {
        "id": "6fIMB7q4s4TM",
        "cellView": "form"
      },
      "execution_count": null,
      "outputs": []
    },
    {
      "cell_type": "code",
      "source": [
        "\n",
        "#@title Set EulerA scheduler\n",
        "\n",
        "from diffusers import EulerAncestralDiscreteScheduler\n",
        "\n",
        "pipe.scheduler = EulerAncestralDiscreteScheduler.from_config(pipe.scheduler.config)"
      ],
      "metadata": {
        "cellView": "form",
        "id": "vBb7VTvGPZwY"
      },
      "execution_count": null,
      "outputs": []
    },
    {
      "cell_type": "code",
      "source": [
        "\n",
        "\n",
        "#@title Load Concept Art LORA\n",
        "\n",
        "pipe.load_lora_weights(\"/content/lora/Concept Art Style SDXL_LoRA_Pony Diffusion V6 XL.safetensors\", cross_attention_kwargs={\"scale\": 0.8})"
      ],
      "metadata": {
        "cellView": "form",
        "id": "rihh4d87Qwam"
      },
      "execution_count": null,
      "outputs": []
    },
    {
      "cell_type": "code",
      "source": [
        "\n",
        "#@title Load Smooth Anime 2 LORA\n",
        "\n",
        "pipe.load_lora_weights(\"/content/lora/Smooth Anime 2 Style SDXL_LoRA_Pony Diffusion V6 XL.safetensors\", cross_attention_kwargs={\"scale\": 0.8})"
      ],
      "metadata": {
        "cellView": "form",
        "id": "ZrbewrilS3ng"
      },
      "execution_count": null,
      "outputs": []
    },
    {
      "cell_type": "code",
      "source": [
        "#@title Load Anime Summer Days 2 LORA\n",
        "\n",
        "pipe.load_lora_weights(\"/content/lora/Anime Summer Days Style SDXL_LoRA_Pony Diffusion V6 XL.safetensors\", cross_attention_kwargs={\"scale\": 0.8})"
      ],
      "metadata": {
        "cellView": "form",
        "id": "aSXgIUmudcH8"
      },
      "execution_count": null,
      "outputs": []
    },
    {
      "cell_type": "code",
      "source": [
        "#@title Load Anime Summer Night LORA\n",
        "\n",
        "pipe.load_lora_weights(\"/content/lora/Anime Summer Night Style SDXL_LoRA_Pony Diffusion V6 XL.safetensors\", cross_attention_kwargs={\"scale\": 0.8})"
      ],
      "metadata": {
        "cellView": "form",
        "id": "BmOL-06td9ch"
      },
      "execution_count": null,
      "outputs": []
    },
    {
      "cell_type": "code",
      "source": [
        "#@title Load Line Art LORA\n",
        "\n",
        "pipe.load_lora_weights(\"/content/lora/Line Art Style LoRA XL.safetensors\", cross_attention_kwargs={\"scale\": 0.8})"
      ],
      "metadata": {
        "cellView": "form",
        "id": "Kw0PDV2UeKeK"
      },
      "execution_count": null,
      "outputs": []
    },
    {
      "cell_type": "code",
      "source": [
        "#@title Unload LORA\n",
        "\n",
        "pipe.unload_lora_weights()"
      ],
      "metadata": {
        "cellView": "form",
        "id": "mOHP-M4jTxUO"
      },
      "execution_count": null,
      "outputs": []
    },
    {
      "cell_type": "code",
      "source": [
        "# @title Generation\n",
        "Prompt = \"score_9, score_8_up, score_7_up, 1boy, fat boy, 1girl, slim figure, medium hair, brown hair, natural small breasts, hetero, cowgirl pose, slouching, blush, in heat, embarrassed, interrupted by viewer, lips parted, dutch angle, grabbed by hair, grab leg, implied penetration, panties around leg, navel, pubic hair, sweat, bedroom , shadowed, from behind, (highly detailed, foreshortening), realistic shadows\" # @param {type:\"string\"}\n",
        "negative_prompt= \"score_4,score_5,score_6, simple background, censored, lowres, low detail, low-quality, signature, distorted, jpeg artifacts, compression artifacts, poorly drawn, low-resolution, bad, distortion, twisted, excessive, exaggerated pose,blurry, watercolor, thick thighs, muscular female, large breasts, bad anatomy, bad proportions, deformed, deformed anatomy, deformed fingers, running mascara, 3d\" # @param {type:\"string\"}\n",
        "Steps = 30 # @param {type:\"number\"}\n",
        "width = 768\n",
        "height= 1216\n",
        "scale = 6.5\n",
        "\n",
        "from googletrans import Translator, constants\n",
        "from pprint import pprint\n",
        "from google.colab import files\n",
        "translator = Translator()\n",
        "translation = translator.translate(Prompt)\n",
        "PromptEN = translation.text\n",
        "prompt = PromptEN\n",
        "if gpu==False:\n",
        "  image = pipe(prompt=PromptEN, num_inference_steps=1, guidance_scale=0.0).images[0]\n",
        "else:\n",
        "  image = pipe(prompt=PromptEN, negative_prompt=negative_prompt, width=width, height=height, num_inference_steps=Steps, clip_scale=2, guidance_scale=scale).images[0]"
      ],
      "metadata": {
        "id": "TRwSxh4WLiQw",
        "cellView": "form",
        "colab": {
          "base_uri": "https://localhost:8080/",
          "height": 49,
          "referenced_widgets": [
            "80d2d18898704337b1c7a46767cf41df",
            "5a7f571880b244b8a05cd7d5d9b1686d",
            "02a4c5c2d50b4782b1d144ee27ed93e4",
            "2446b118d61d44cbb049f0b87d359025",
            "da19276f675b42348e71823f8cbf5c6d",
            "4fa8097b82f44eea87eff2b11d859c5f",
            "d8ff9ae0240e46658946ee22decb7a75",
            "98884ca510824d88b577aab042933b3e",
            "fe28421e5af944bbb5373b08985809b4",
            "ba404ae2f5f342f38700764fefc2f2f7",
            "5309616ae0b640caab2eb183c0376521"
          ]
        },
        "outputId": "a1c246cf-4d5c-4e5c-bdd1-dd83fac050d1"
      },
      "execution_count": null,
      "outputs": [
        {
          "output_type": "display_data",
          "data": {
            "text/plain": [
              "  0%|          | 0/30 [00:00<?, ?it/s]"
            ],
            "application/vnd.jupyter.widget-view+json": {
              "version_major": 2,
              "version_minor": 0,
              "model_id": "80d2d18898704337b1c7a46767cf41df"
            }
          },
          "metadata": {}
        }
      ]
    },
    {
      "cell_type": "code",
      "source": [
        "\n",
        "#@title Show result\n",
        "display(image)"
      ],
      "metadata": {
        "id": "EoCx1y466m2x",
        "cellView": "form"
      },
      "execution_count": null,
      "outputs": []
    },
    {
      "cell_type": "code",
      "source": [
        "#@title Clear CUDA cache\n",
        "device = 'cuda'\n",
        "import torch, gc\n",
        "import os\n",
        "gc.collect()\n",
        "torch.cuda.empty_cache()"
      ],
      "metadata": {
        "id": "OVQzqrxQfysV",
        "cellView": "form"
      },
      "execution_count": null,
      "outputs": []
    }
  ]
}